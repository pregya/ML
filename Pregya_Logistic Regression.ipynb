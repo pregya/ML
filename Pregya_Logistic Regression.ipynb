{
 "cells": [
  {
   "cell_type": "markdown",
   "id": "c614fbb6",
   "metadata": {},
   "source": [
    "# 441B Assignment #2\n",
    "\n",
    "## Pregya Vijayakumar"
   ]
  },
  {
   "cell_type": "markdown",
   "id": "07c34ec6",
   "metadata": {},
   "source": [
    "# 1.) Pull in Data and Convert ot Monthly"
   ]
  },
  {
   "cell_type": "code",
   "execution_count": 1,
   "id": "b48f7d57",
   "metadata": {},
   "outputs": [],
   "source": [
    "import yfinance as yf\n",
    "import pandas as pd\n",
    "import numpy as np\n",
    "import matplotlib.pyplot as plt"
   ]
  },
  {
   "cell_type": "code",
   "execution_count": 2,
   "id": "4fa973aa",
   "metadata": {},
   "outputs": [
    {
     "name": "stderr",
     "output_type": "stream",
     "text": [
      "[*********************100%%**********************]  1 of 1 completed\n"
     ]
    }
   ],
   "source": [
    "apple_data = yf.download('AAPL')\n",
    "df = apple_data.resample(\"M\").last()[[\"Adj Close\"]]"
   ]
  },
  {
   "cell_type": "markdown",
   "id": "54bbfd02",
   "metadata": {},
   "source": [
    "# 2.) Create columns. \n",
    "  - Current Stock Price, Difference in stock price, Whether it went up or down over the next month,  option premium"
   ]
  },
  {
   "cell_type": "code",
   "execution_count": 3,
   "id": "f97d3fa3",
   "metadata": {},
   "outputs": [
    {
     "data": {
      "text/html": [
       "<div>\n",
       "<style scoped>\n",
       "    .dataframe tbody tr th:only-of-type {\n",
       "        vertical-align: middle;\n",
       "    }\n",
       "\n",
       "    .dataframe tbody tr th {\n",
       "        vertical-align: top;\n",
       "    }\n",
       "\n",
       "    .dataframe thead th {\n",
       "        text-align: right;\n",
       "    }\n",
       "</style>\n",
       "<table border=\"1\" class=\"dataframe\">\n",
       "  <thead>\n",
       "    <tr style=\"text-align: right;\">\n",
       "      <th></th>\n",
       "      <th>Adj Close</th>\n",
       "    </tr>\n",
       "    <tr>\n",
       "      <th>Date</th>\n",
       "      <th></th>\n",
       "    </tr>\n",
       "  </thead>\n",
       "  <tbody>\n",
       "    <tr>\n",
       "      <th>1980-12-31</th>\n",
       "      <td>0.117887</td>\n",
       "    </tr>\n",
       "    <tr>\n",
       "      <th>1981-01-31</th>\n",
       "      <td>0.097591</td>\n",
       "    </tr>\n",
       "    <tr>\n",
       "      <th>1981-02-28</th>\n",
       "      <td>0.091546</td>\n",
       "    </tr>\n",
       "    <tr>\n",
       "      <th>1981-03-31</th>\n",
       "      <td>0.084637</td>\n",
       "    </tr>\n",
       "    <tr>\n",
       "      <th>1981-04-30</th>\n",
       "      <td>0.098023</td>\n",
       "    </tr>\n",
       "  </tbody>\n",
       "</table>\n",
       "</div>"
      ],
      "text/plain": [
       "            Adj Close\n",
       "Date                 \n",
       "1980-12-31   0.117887\n",
       "1981-01-31   0.097591\n",
       "1981-02-28   0.091546\n",
       "1981-03-31   0.084637\n",
       "1981-04-30   0.098023"
      ]
     },
     "execution_count": 3,
     "metadata": {},
     "output_type": "execute_result"
    }
   ],
   "source": [
    "# Getting our dataset\n",
    "df.head()"
   ]
  },
  {
   "cell_type": "code",
   "execution_count": 4,
   "id": "1f21f202",
   "metadata": {},
   "outputs": [],
   "source": [
    "#Difference in Stock Price\n",
    "df[\"Diff\"] = df[\"Adj Close\"].diff().shift(-1)\n",
    "\n",
    "#Target Variable (if the stock price went up or down)\n",
    "df[\"Target\"] = np.sign(df[\"Diff\"])\n",
    "\n",
    "# Option Premium \n",
    "df[\"Premium\"] = .08 * df[\"Adj Close\"]"
   ]
  },
  {
   "cell_type": "code",
   "execution_count": 5,
   "id": "eb9d59b2",
   "metadata": {},
   "outputs": [
    {
     "data": {
      "text/html": [
       "<div>\n",
       "<style scoped>\n",
       "    .dataframe tbody tr th:only-of-type {\n",
       "        vertical-align: middle;\n",
       "    }\n",
       "\n",
       "    .dataframe tbody tr th {\n",
       "        vertical-align: top;\n",
       "    }\n",
       "\n",
       "    .dataframe thead th {\n",
       "        text-align: right;\n",
       "    }\n",
       "</style>\n",
       "<table border=\"1\" class=\"dataframe\">\n",
       "  <thead>\n",
       "    <tr style=\"text-align: right;\">\n",
       "      <th></th>\n",
       "      <th>Adj Close</th>\n",
       "      <th>Diff</th>\n",
       "      <th>Target</th>\n",
       "      <th>Premium</th>\n",
       "    </tr>\n",
       "    <tr>\n",
       "      <th>Date</th>\n",
       "      <th></th>\n",
       "      <th></th>\n",
       "      <th></th>\n",
       "      <th></th>\n",
       "    </tr>\n",
       "  </thead>\n",
       "  <tbody>\n",
       "    <tr>\n",
       "      <th>1980-12-31</th>\n",
       "      <td>0.117887</td>\n",
       "      <td>-0.020296</td>\n",
       "      <td>-1.0</td>\n",
       "      <td>0.009431</td>\n",
       "    </tr>\n",
       "    <tr>\n",
       "      <th>1981-01-31</th>\n",
       "      <td>0.097591</td>\n",
       "      <td>-0.006045</td>\n",
       "      <td>-1.0</td>\n",
       "      <td>0.007807</td>\n",
       "    </tr>\n",
       "    <tr>\n",
       "      <th>1981-02-28</th>\n",
       "      <td>0.091546</td>\n",
       "      <td>-0.006909</td>\n",
       "      <td>-1.0</td>\n",
       "      <td>0.007324</td>\n",
       "    </tr>\n",
       "    <tr>\n",
       "      <th>1981-03-31</th>\n",
       "      <td>0.084637</td>\n",
       "      <td>0.013386</td>\n",
       "      <td>1.0</td>\n",
       "      <td>0.006771</td>\n",
       "    </tr>\n",
       "    <tr>\n",
       "      <th>1981-04-30</th>\n",
       "      <td>0.098023</td>\n",
       "      <td>0.016409</td>\n",
       "      <td>1.0</td>\n",
       "      <td>0.007842</td>\n",
       "    </tr>\n",
       "  </tbody>\n",
       "</table>\n",
       "</div>"
      ],
      "text/plain": [
       "            Adj Close      Diff  Target   Premium\n",
       "Date                                             \n",
       "1980-12-31   0.117887 -0.020296    -1.0  0.009431\n",
       "1981-01-31   0.097591 -0.006045    -1.0  0.007807\n",
       "1981-02-28   0.091546 -0.006909    -1.0  0.007324\n",
       "1981-03-31   0.084637  0.013386     1.0  0.006771\n",
       "1981-04-30   0.098023  0.016409     1.0  0.007842"
      ]
     },
     "execution_count": 5,
     "metadata": {},
     "output_type": "execute_result"
    }
   ],
   "source": [
    "# The new dataset with all columns\n",
    "df.head()"
   ]
  },
  {
   "cell_type": "markdown",
   "id": "c9987e25",
   "metadata": {},
   "source": [
    "# 3.) Pull in X data, and build a LogReg on column 2"
   ]
  },
  {
   "cell_type": "code",
   "execution_count": 6,
   "id": "132b4471",
   "metadata": {},
   "outputs": [],
   "source": [
    "import numpy as np\n",
    "import pandas as pd\n",
    "from sklearn.model_selection import train_test_split\n",
    "from sklearn.linear_model import LogisticRegression\n",
    "from sklearn import metrics"
   ]
  },
  {
   "cell_type": "code",
   "execution_count": 7,
   "id": "b21f3c33",
   "metadata": {},
   "outputs": [],
   "source": [
    "X = pd.read_csv(\"Xdata.csv\", index_col=\"Date\", parse_dates=[\"Date\"])"
   ]
  },
  {
   "cell_type": "code",
   "execution_count": 8,
   "id": "7b38602e",
   "metadata": {},
   "outputs": [],
   "source": [
    "y = df.loc[:\"2023-09-30\",\"Target\"].copy()\n",
    "\n",
    "df = df.loc[:\"2023-09-30\",:].copy()"
   ]
  },
  {
   "cell_type": "code",
   "execution_count": 9,
   "id": "f3bc75a2",
   "metadata": {},
   "outputs": [
    {
     "data": {
      "text/html": [
       "<style>#sk-container-id-1 {color: black;}#sk-container-id-1 pre{padding: 0;}#sk-container-id-1 div.sk-toggleable {background-color: white;}#sk-container-id-1 label.sk-toggleable__label {cursor: pointer;display: block;width: 100%;margin-bottom: 0;padding: 0.3em;box-sizing: border-box;text-align: center;}#sk-container-id-1 label.sk-toggleable__label-arrow:before {content: \"▸\";float: left;margin-right: 0.25em;color: #696969;}#sk-container-id-1 label.sk-toggleable__label-arrow:hover:before {color: black;}#sk-container-id-1 div.sk-estimator:hover label.sk-toggleable__label-arrow:before {color: black;}#sk-container-id-1 div.sk-toggleable__content {max-height: 0;max-width: 0;overflow: hidden;text-align: left;background-color: #f0f8ff;}#sk-container-id-1 div.sk-toggleable__content pre {margin: 0.2em;color: black;border-radius: 0.25em;background-color: #f0f8ff;}#sk-container-id-1 input.sk-toggleable__control:checked~div.sk-toggleable__content {max-height: 200px;max-width: 100%;overflow: auto;}#sk-container-id-1 input.sk-toggleable__control:checked~label.sk-toggleable__label-arrow:before {content: \"▾\";}#sk-container-id-1 div.sk-estimator input.sk-toggleable__control:checked~label.sk-toggleable__label {background-color: #d4ebff;}#sk-container-id-1 div.sk-label input.sk-toggleable__control:checked~label.sk-toggleable__label {background-color: #d4ebff;}#sk-container-id-1 input.sk-hidden--visually {border: 0;clip: rect(1px 1px 1px 1px);clip: rect(1px, 1px, 1px, 1px);height: 1px;margin: -1px;overflow: hidden;padding: 0;position: absolute;width: 1px;}#sk-container-id-1 div.sk-estimator {font-family: monospace;background-color: #f0f8ff;border: 1px dotted black;border-radius: 0.25em;box-sizing: border-box;margin-bottom: 0.5em;}#sk-container-id-1 div.sk-estimator:hover {background-color: #d4ebff;}#sk-container-id-1 div.sk-parallel-item::after {content: \"\";width: 100%;border-bottom: 1px solid gray;flex-grow: 1;}#sk-container-id-1 div.sk-label:hover label.sk-toggleable__label {background-color: #d4ebff;}#sk-container-id-1 div.sk-serial::before {content: \"\";position: absolute;border-left: 1px solid gray;box-sizing: border-box;top: 0;bottom: 0;left: 50%;z-index: 0;}#sk-container-id-1 div.sk-serial {display: flex;flex-direction: column;align-items: center;background-color: white;padding-right: 0.2em;padding-left: 0.2em;position: relative;}#sk-container-id-1 div.sk-item {position: relative;z-index: 1;}#sk-container-id-1 div.sk-parallel {display: flex;align-items: stretch;justify-content: center;background-color: white;position: relative;}#sk-container-id-1 div.sk-item::before, #sk-container-id-1 div.sk-parallel-item::before {content: \"\";position: absolute;border-left: 1px solid gray;box-sizing: border-box;top: 0;bottom: 0;left: 50%;z-index: -1;}#sk-container-id-1 div.sk-parallel-item {display: flex;flex-direction: column;z-index: 1;position: relative;background-color: white;}#sk-container-id-1 div.sk-parallel-item:first-child::after {align-self: flex-end;width: 50%;}#sk-container-id-1 div.sk-parallel-item:last-child::after {align-self: flex-start;width: 50%;}#sk-container-id-1 div.sk-parallel-item:only-child::after {width: 0;}#sk-container-id-1 div.sk-dashed-wrapped {border: 1px dashed gray;margin: 0 0.4em 0.5em 0.4em;box-sizing: border-box;padding-bottom: 0.4em;background-color: white;}#sk-container-id-1 div.sk-label label {font-family: monospace;font-weight: bold;display: inline-block;line-height: 1.2em;}#sk-container-id-1 div.sk-label-container {text-align: center;}#sk-container-id-1 div.sk-container {/* jupyter's `normalize.less` sets `[hidden] { display: none; }` but bootstrap.min.css set `[hidden] { display: none !important; }` so we also need the `!important` here to be able to override the default hidden behavior on the sphinx rendered scikit-learn.org. See: https://github.com/scikit-learn/scikit-learn/issues/21755 */display: inline-block !important;position: relative;}#sk-container-id-1 div.sk-text-repr-fallback {display: none;}</style><div id=\"sk-container-id-1\" class=\"sk-top-container\"><div class=\"sk-text-repr-fallback\"><pre>LogisticRegression()</pre><b>In a Jupyter environment, please rerun this cell to show the HTML representation or trust the notebook. <br />On GitHub, the HTML representation is unable to render, please try loading this page with nbviewer.org.</b></div><div class=\"sk-container\" hidden><div class=\"sk-item\"><div class=\"sk-estimator sk-toggleable\"><input class=\"sk-toggleable__control sk-hidden--visually\" id=\"sk-estimator-id-1\" type=\"checkbox\" checked><label for=\"sk-estimator-id-1\" class=\"sk-toggleable__label sk-toggleable__label-arrow\">LogisticRegression</label><div class=\"sk-toggleable__content\"><pre>LogisticRegression()</pre></div></div></div></div></div>"
      ],
      "text/plain": [
       "LogisticRegression()"
      ]
     },
     "execution_count": 9,
     "metadata": {},
     "output_type": "execute_result"
    }
   ],
   "source": [
    "# Fitting our logistic regression\n",
    "\n",
    "logreg = LogisticRegression()\n",
    "\n",
    "logreg.fit(X, y)"
   ]
  },
  {
   "cell_type": "markdown",
   "id": "2c2c792d",
   "metadata": {},
   "source": [
    "# 4.) Add columns, prediction and profits."
   ]
  },
  {
   "cell_type": "code",
   "execution_count": 10,
   "id": "8009466a",
   "metadata": {},
   "outputs": [],
   "source": [
    "# Getting our predictions\n",
    "\n",
    "y_pred = logreg.predict(X)"
   ]
  },
  {
   "cell_type": "code",
   "execution_count": 11,
   "id": "4aae021b",
   "metadata": {},
   "outputs": [],
   "source": [
    "# Adding our predictions to the data\n",
    "df[\"Predictions\"] = y_pred"
   ]
  },
  {
   "cell_type": "code",
   "execution_count": 12,
   "id": "1d41211f",
   "metadata": {},
   "outputs": [],
   "source": [
    "# Adding profits to the data\n",
    "df[\"Profits\"] = 0"
   ]
  },
  {
   "cell_type": "code",
   "execution_count": 13,
   "id": "ab88d78d",
   "metadata": {},
   "outputs": [
    {
     "data": {
      "text/html": [
       "<div>\n",
       "<style scoped>\n",
       "    .dataframe tbody tr th:only-of-type {\n",
       "        vertical-align: middle;\n",
       "    }\n",
       "\n",
       "    .dataframe tbody tr th {\n",
       "        vertical-align: top;\n",
       "    }\n",
       "\n",
       "    .dataframe thead th {\n",
       "        text-align: right;\n",
       "    }\n",
       "</style>\n",
       "<table border=\"1\" class=\"dataframe\">\n",
       "  <thead>\n",
       "    <tr style=\"text-align: right;\">\n",
       "      <th></th>\n",
       "      <th>Adj Close</th>\n",
       "      <th>Diff</th>\n",
       "      <th>Target</th>\n",
       "      <th>Premium</th>\n",
       "      <th>Predictions</th>\n",
       "      <th>Profits</th>\n",
       "    </tr>\n",
       "    <tr>\n",
       "      <th>Date</th>\n",
       "      <th></th>\n",
       "      <th></th>\n",
       "      <th></th>\n",
       "      <th></th>\n",
       "      <th></th>\n",
       "      <th></th>\n",
       "    </tr>\n",
       "  </thead>\n",
       "  <tbody>\n",
       "    <tr>\n",
       "      <th>1980-12-31</th>\n",
       "      <td>0.117887</td>\n",
       "      <td>-0.020296</td>\n",
       "      <td>-1.0</td>\n",
       "      <td>0.009431</td>\n",
       "      <td>-1.0</td>\n",
       "      <td>0</td>\n",
       "    </tr>\n",
       "    <tr>\n",
       "      <th>1981-01-31</th>\n",
       "      <td>0.097591</td>\n",
       "      <td>-0.006045</td>\n",
       "      <td>-1.0</td>\n",
       "      <td>0.007807</td>\n",
       "      <td>-1.0</td>\n",
       "      <td>0</td>\n",
       "    </tr>\n",
       "    <tr>\n",
       "      <th>1981-02-28</th>\n",
       "      <td>0.091546</td>\n",
       "      <td>-0.006909</td>\n",
       "      <td>-1.0</td>\n",
       "      <td>0.007324</td>\n",
       "      <td>-1.0</td>\n",
       "      <td>0</td>\n",
       "    </tr>\n",
       "    <tr>\n",
       "      <th>1981-03-31</th>\n",
       "      <td>0.084637</td>\n",
       "      <td>0.013386</td>\n",
       "      <td>1.0</td>\n",
       "      <td>0.006771</td>\n",
       "      <td>1.0</td>\n",
       "      <td>0</td>\n",
       "    </tr>\n",
       "    <tr>\n",
       "      <th>1981-04-30</th>\n",
       "      <td>0.098023</td>\n",
       "      <td>0.016409</td>\n",
       "      <td>1.0</td>\n",
       "      <td>0.007842</td>\n",
       "      <td>1.0</td>\n",
       "      <td>0</td>\n",
       "    </tr>\n",
       "  </tbody>\n",
       "</table>\n",
       "</div>"
      ],
      "text/plain": [
       "            Adj Close      Diff  Target   Premium  Predictions  Profits\n",
       "Date                                                                   \n",
       "1980-12-31   0.117887 -0.020296    -1.0  0.009431         -1.0        0\n",
       "1981-01-31   0.097591 -0.006045    -1.0  0.007807         -1.0        0\n",
       "1981-02-28   0.091546 -0.006909    -1.0  0.007324         -1.0        0\n",
       "1981-03-31   0.084637  0.013386     1.0  0.006771          1.0        0\n",
       "1981-04-30   0.098023  0.016409     1.0  0.007842          1.0        0"
      ]
     },
     "execution_count": 13,
     "metadata": {},
     "output_type": "execute_result"
    }
   ],
   "source": [
    "df.head()"
   ]
  },
  {
   "cell_type": "code",
   "execution_count": 17,
   "id": "7c8a051f",
   "metadata": {},
   "outputs": [],
   "source": [
    "#True Positives (Profit)\n",
    "df.loc[(df[\"Target\"] == 1) & (df[\"Predictions\"] == 1), \"Profits\"] = df[\"Premium\"]\n",
    "\n",
    "#False Positives (Profit)\n",
    "df.loc[(df[\"Target\"] == -1) & (df[\"Predictions\"] == 1), \"Profits\"] = 100 * df[\"Diff\"] + df[\"Premium\"]\n",
    "\n",
    "#False Negative and True Negatives are 0 here in this case"
   ]
  },
  {
   "cell_type": "code",
   "execution_count": 19,
   "id": "3813484b",
   "metadata": {},
   "outputs": [
    {
     "data": {
      "text/html": [
       "<div>\n",
       "<style scoped>\n",
       "    .dataframe tbody tr th:only-of-type {\n",
       "        vertical-align: middle;\n",
       "    }\n",
       "\n",
       "    .dataframe tbody tr th {\n",
       "        vertical-align: top;\n",
       "    }\n",
       "\n",
       "    .dataframe thead th {\n",
       "        text-align: right;\n",
       "    }\n",
       "</style>\n",
       "<table border=\"1\" class=\"dataframe\">\n",
       "  <thead>\n",
       "    <tr style=\"text-align: right;\">\n",
       "      <th></th>\n",
       "      <th>Adj Close</th>\n",
       "      <th>Diff</th>\n",
       "      <th>Target</th>\n",
       "      <th>Premium</th>\n",
       "      <th>Predictions</th>\n",
       "      <th>Profits</th>\n",
       "    </tr>\n",
       "    <tr>\n",
       "      <th>Date</th>\n",
       "      <th></th>\n",
       "      <th></th>\n",
       "      <th></th>\n",
       "      <th></th>\n",
       "      <th></th>\n",
       "      <th></th>\n",
       "    </tr>\n",
       "  </thead>\n",
       "  <tbody>\n",
       "    <tr>\n",
       "      <th>1980-12-31</th>\n",
       "      <td>0.117887</td>\n",
       "      <td>-0.020296</td>\n",
       "      <td>-1.0</td>\n",
       "      <td>0.009431</td>\n",
       "      <td>-1.0</td>\n",
       "      <td>0.000000</td>\n",
       "    </tr>\n",
       "    <tr>\n",
       "      <th>1981-01-31</th>\n",
       "      <td>0.097591</td>\n",
       "      <td>-0.006045</td>\n",
       "      <td>-1.0</td>\n",
       "      <td>0.007807</td>\n",
       "      <td>-1.0</td>\n",
       "      <td>0.000000</td>\n",
       "    </tr>\n",
       "    <tr>\n",
       "      <th>1981-02-28</th>\n",
       "      <td>0.091546</td>\n",
       "      <td>-0.006909</td>\n",
       "      <td>-1.0</td>\n",
       "      <td>0.007324</td>\n",
       "      <td>-1.0</td>\n",
       "      <td>0.000000</td>\n",
       "    </tr>\n",
       "    <tr>\n",
       "      <th>1981-03-31</th>\n",
       "      <td>0.084637</td>\n",
       "      <td>0.013386</td>\n",
       "      <td>1.0</td>\n",
       "      <td>0.006771</td>\n",
       "      <td>1.0</td>\n",
       "      <td>0.006771</td>\n",
       "    </tr>\n",
       "    <tr>\n",
       "      <th>1981-04-30</th>\n",
       "      <td>0.098023</td>\n",
       "      <td>0.016409</td>\n",
       "      <td>1.0</td>\n",
       "      <td>0.007842</td>\n",
       "      <td>1.0</td>\n",
       "      <td>0.007842</td>\n",
       "    </tr>\n",
       "  </tbody>\n",
       "</table>\n",
       "</div>"
      ],
      "text/plain": [
       "            Adj Close      Diff  Target   Premium  Predictions   Profits\n",
       "Date                                                                    \n",
       "1980-12-31   0.117887 -0.020296    -1.0  0.009431         -1.0  0.000000\n",
       "1981-01-31   0.097591 -0.006045    -1.0  0.007807         -1.0  0.000000\n",
       "1981-02-28   0.091546 -0.006909    -1.0  0.007324         -1.0  0.000000\n",
       "1981-03-31   0.084637  0.013386     1.0  0.006771          1.0  0.006771\n",
       "1981-04-30   0.098023  0.016409     1.0  0.007842          1.0  0.007842"
      ]
     },
     "execution_count": 19,
     "metadata": {},
     "output_type": "execute_result"
    }
   ],
   "source": [
    "# Our Final dataset including profits we get\n",
    "df.head()"
   ]
  },
  {
   "cell_type": "markdown",
   "id": "e379d80c",
   "metadata": {},
   "source": [
    "# 5.) Plot profits over time"
   ]
  },
  {
   "cell_type": "code",
   "execution_count": 15,
   "id": "bc16f4dc",
   "metadata": {},
   "outputs": [
    {
     "data": {
      "image/png": "[encoded data removed]",
      "text/plain": [
       "<Figure size 640x480 with 1 Axes>"
      ]
     },
     "metadata": {},
     "output_type": "display_data"
    }
   ],
   "source": [
    "# Plotting our profits \n",
    "plt.plot(np.cumsum(df[\"Profits\"]))\n",
    "plt.grid()\n",
    "plt.xlabel(\"Time\")\n",
    "plt.ylabel(\"Profits\")\n",
    "plt.show()"
   ]
  },
  {
   "cell_type": "markdown",
   "id": "bbaa93a4",
   "metadata": {},
   "source": [
    " (Profits fall because of covid; getting small returns but penalized a lot when market falls)"
   ]
  },
  {
   "cell_type": "markdown",
   "id": "b41585cf",
   "metadata": {},
   "source": [
    "# 5.5) Short Write up on how you see your skills valuable to PJ and/or Philip Liu\n",
    "\n",
    "I have been interested in cryptocurrency and worked with some real world data as to which tokens/ exchanges are best fit for different demographics and I wish to learn more from the consumer side about the reason behind investments and I think these may be beneficial and valuable to the work PJ is doing. \n",
    "\n",
    "\n",
    "I am excited about the idea of contributing to PJ's exploration of behavioral analysis of the cryptocurrency trades conducted on the Stars Arena app. I am deeply interested in working in the field of behavioral analysis and understanding the reason why people make certain choices. My passion for understanding human decision-making is reflected in the Applied Project I worked on in the Fall where my team conducted sentiment analysis on emails to understand better how and when UCLA Alumni interact with the events hosted by the Alumni Association. This practical experience, complemented with reading and research on the subject is what I believe would be valuable to PJ.\n",
    "\n",
    "In addition, in my previous roles I have worked in the field of cryptocurrency to help identify the optimal tokens and exchanges for diverse demographics. I would love understand how consumers and people make decisions and invest in Crypto Markets."
   ]
  }
 ],
 "metadata": {
  "kernelspec": {
   "display_name": "Python 3 (ipykernel)",
   "language": "python",
   "name": "python3"
  },
  "language_info": {
   "codemirror_mode": {
    "name": "ipython",
    "version": 3
   },
   "file_extension": ".py",
   "mimetype": "text/x-python",
   "name": "python",
   "nbconvert_exporter": "python",
   "pygments_lexer": "ipython3",
   "version": "3.11.4"
  }
 },
 "nbformat": 4,
 "nbformat_minor": 5
}
